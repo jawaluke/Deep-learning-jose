{
 "cells": [
  {
   "cell_type": "code",
   "execution_count": 168,
   "metadata": {},
   "outputs": [
    {
     "name": "stdout",
     "output_type": "stream",
     "text": [
      "7\n",
      "Q 0 0\n",
      "C 1 2\n",
      "Q 0 0\n",
      "C 2 3\n",
      "Q 0 0\n",
      "C 4 5\n",
      "Q 0 0\n",
      "C 2 4\n",
      "Q 0 0\n",
      "C 6 7\n",
      "Q 0 0\n",
      "C 8 9\n",
      "Q 0 0\n",
      "C 7 8\n",
      "Q 0 0\n",
      "C 1 7\n",
      "Q 0 0\n",
      "-1\n",
      "['Q 0 0', 'C 1 2', 'Q 0 0', 'C 2 3', 'Q 0 0', 'C 4 5', 'Q 0 0', 'C 2 4', 'Q 0 0', 'C 6 7', 'Q 0 0', 'C 8 9', 'Q 0 0', 'C 7 8', 'Q 0 0', 'C 1 7', 'Q 0 0']\n"
     ]
    }
   ],
   "source": [
    "# input \n",
    "\n",
    "n = int(input())\n",
    "\n",
    "query = []\n",
    "\n",
    "for i in range(n*10):\n",
    "    ins = input()\n",
    "    if ins == \"-1\":\n",
    "        break\n",
    "    query.append(ins)\n",
    "\n",
    "print(query)\n",
    "    "
   ]
  },
  {
   "cell_type": "code",
   "execution_count": 79,
   "metadata": {},
   "outputs": [
    {
     "ename": "ValueError",
     "evalue": "list.remove(x): x not in list",
     "output_type": "error",
     "traceback": [
      "\u001b[1;31m---------------------------------------------------------------------------\u001b[0m",
      "\u001b[1;31mValueError\u001b[0m                                Traceback (most recent call last)",
      "\u001b[1;32m<ipython-input-79-2dcc461e6837>\u001b[0m in \u001b[0;36m<module>\u001b[1;34m\u001b[0m\n\u001b[1;32m----> 1\u001b[1;33m \u001b[0mquery\u001b[0m\u001b[1;33m.\u001b[0m\u001b[0mremove\u001b[0m\u001b[1;33m(\u001b[0m\u001b[1;34m\"\"\u001b[0m\u001b[1;33m)\u001b[0m\u001b[1;33m\u001b[0m\u001b[1;33m\u001b[0m\u001b[0m\n\u001b[0m",
      "\u001b[1;31mValueError\u001b[0m: list.remove(x): x not in list"
     ]
    }
   ],
   "source": [
    "#query.remove(\"\")"
   ]
  },
  {
   "cell_type": "code",
   "execution_count": 173,
   "metadata": {},
   "outputs": [
    {
     "name": "stdout",
     "output_type": "stream",
     "text": [
      "0\n",
      "the group :  [[1, 2]]\n",
      "1\n",
      "the group :  [[1, 2, 3]]\n",
      "0\n",
      "the group :  [[1, 2, 3], [4, 5]]\n",
      "1\n",
      "the group :  [[1, 2, 3, 4, 5]]\n",
      "0\n",
      "the group :  [[1, 2, 3, 4, 5], [6, 7]]\n",
      "1\n",
      "the group :  [[1, 2, 3, 4, 5], [6, 7], [8, 9]]\n",
      "2\n",
      "the group :  [[1, 2, 3, 4, 5], [8, 9, 6, 7]]\n",
      "1\n",
      "the group :  [[1, 2, 3, 4, 5, 6, 7, 8, 9]]\n",
      "0\n"
     ]
    }
   ],
   "source": [
    "total_group = []\n",
    "group_count = 0\n",
    "\n",
    "for i,j in enumerate(query):\n",
    "    if i == 0:\n",
    "        print(0)\n",
    "    else:\n",
    "        \n",
    "        query_split = j.split()\n",
    "        if query_split[0] == \"Q\":\n",
    "            pass\n",
    "        else:\n",
    "            \n",
    "            group = list(map(int,query_split[1:]))\n",
    "            \n",
    "            total_group.append(group)\n",
    "            \n",
    "            groups = looping_count(total_group,group)\n",
    "            if groups == None or groups == 0:\n",
    "                pass\n",
    "            else:\n",
    "                group = groups\n",
    "            try:\n",
    "                print(\"the group : \",total_group)\n",
    "                cnts = 0\n",
    "                for i in total_group:\n",
    "                    if len(i)%2 == 0:\n",
    "                        cnts +=1 \n",
    "                if cnts !=0:\n",
    "                    print(cnts)\n",
    "                else:\n",
    "                    print(0)\n",
    "            except:\n",
    "                print(0)"
   ]
  },
  {
   "cell_type": "code",
   "execution_count": 170,
   "metadata": {},
   "outputs": [
    {
     "data": {
      "text/plain": [
       "[[1, 2, 3, 4, 5, 6, 7, 8, 9]]"
      ]
     },
     "execution_count": 170,
     "metadata": {},
     "output_type": "execute_result"
    }
   ],
   "source": [
    "total_group"
   ]
  },
  {
   "cell_type": "code",
   "execution_count": 13,
   "metadata": {},
   "outputs": [
    {
     "name": "stdout",
     "output_type": "stream",
     "text": [
      "hi\n"
     ]
    }
   ],
   "source": [
    "if set([1,2]).intersection(set([2,3])):\n",
    "    print(\"hi\")"
   ]
  },
  {
   "cell_type": "code",
   "execution_count": 165,
   "metadata": {},
   "outputs": [],
   "source": [
    "def looping_count(total_group,cmp):\n",
    "    repeat = []\n",
    "    for i in total_group:\n",
    "        for j in total_group:\n",
    "            if i == j:\n",
    "                pass\n",
    "            else:\n",
    "                repeat.append([i,j])\n",
    "                if set(i).intersection(set(j)):\n",
    "                    a =  set(i)\n",
    "                    a.update(j)\n",
    "                    total_group.append(list(a))\n",
    "                    total_group.remove(i)\n",
    "                    total_group.remove(j)\n",
    "    if condition(total_group,cmp):\n",
    "        return condition(total_group,cmp)\n",
    "\n",
    "                        \n",
    "\n",
    "            \n"
   ]
  },
  {
   "cell_type": "code",
   "execution_count": 166,
   "metadata": {},
   "outputs": [],
   "source": [
    "def condition(total_group,cmp):\n",
    "    for i in total_group:\n",
    "        for j in i:\n",
    "            if j in cmp:\n",
    "                cond = True\n",
    "                val = i\n",
    "                return val\n",
    "    return 0"
   ]
  },
  {
   "cell_type": "code",
   "execution_count": 37,
   "metadata": {},
   "outputs": [],
   "source": [
    "if set(i).intersection(set(j)):\n",
    "                    print(\"on\")\n",
    "                    if i == cmp or j == cmp:\n",
    "                        print(\"oned\")\n",
    "                        a =  set(i)\n",
    "                        a.update(j)\n",
    "                        print(\"a is \", a)\n",
    "                        total_group.append(list(a))\n",
    "                        total_group.remove(i)\n",
    "                        total_group.remove(j)\n",
    "                        return list(a)\n",
    "                    else:\n",
    "                        a =  set(i)\n",
    "                        a.update(j)\n",
    "                        print(\"a is \", a)\n",
    "                        total_group.append(list(a))\n",
    "                        total_group.remove(i)\n",
    "                        total_group.remove(j)\n",
    "                "
   ]
  },
  {
   "cell_type": "code",
   "execution_count": 40,
   "metadata": {},
   "outputs": [
    {
     "data": {
      "text/plain": [
       "[2, 3, 4]"
      ]
     },
     "execution_count": 40,
     "metadata": {},
     "output_type": "execute_result"
    }
   ],
   "source": [
    "list(a)"
   ]
  },
  {
   "cell_type": "code",
   "execution_count": 60,
   "metadata": {},
   "outputs": [
    {
     "data": {
      "text/plain": [
       "True"
      ]
     },
     "execution_count": 60,
     "metadata": {},
     "output_type": "execute_result"
    }
   ],
   "source": [
    "[2,3] == [2,3]"
   ]
  },
  {
   "cell_type": "code",
   "execution_count": null,
   "metadata": {},
   "outputs": [],
   "source": []
  }
 ],
 "metadata": {
  "kernelspec": {
   "display_name": "Python 3",
   "language": "python",
   "name": "python3"
  },
  "language_info": {
   "codemirror_mode": {
    "name": "ipython",
    "version": 3
   },
   "file_extension": ".py",
   "mimetype": "text/x-python",
   "name": "python",
   "nbconvert_exporter": "python",
   "pygments_lexer": "ipython3",
   "version": "3.7.9"
  }
 },
 "nbformat": 4,
 "nbformat_minor": 4
}
