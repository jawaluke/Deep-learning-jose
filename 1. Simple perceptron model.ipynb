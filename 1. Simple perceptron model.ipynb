{
 "cells": [
  {
   "cell_type": "code",
   "execution_count": 1,
   "metadata": {},
   "outputs": [],
   "source": [
    "# basics perceptron model with simple formula \n",
    "\n",
    "#  y = (x1w1 + b) + (x2w2 + b)\n",
    "\n",
    "\n",
    "\n",
    "\n",
    "\n",
    "#          * w1+b\n",
    "#    x1 ___________\n",
    "#                  \\          y \n",
    "#                   >  f(x) -------> output        \n",
    "#   x2 ____________/\n",
    "#          * W2+b\n",
    "\n",
    "\n",
    "# z = X*W + b\n",
    "\n",
    "\n"
   ]
  },
  {
   "cell_type": "code",
   "execution_count": 2,
   "metadata": {},
   "outputs": [
    {
     "data": {
      "text/plain": [
       "'\\n\\n1. sigmoid activation function  :\\n\\n        - f(z) = 1 / 1 + e(-z)\\n        \\n        -  eg : binary classification --> 0 or 1\\n\\n\\n2. Hyperbolic Tangent :\\n        \\n        -  tanh(z) \\n        -  eg : output -1 and 1 instead of 0 to 1\\n\\n\\n3. Rectified Linear Unit (ReLU) :\\n\\n        - max(x,0)\\n        \\n        - found to be very good performance especially dealing with  issue of vanishing gradient.\\n\\n\\n'"
      ]
     },
     "execution_count": 2,
     "metadata": {},
     "output_type": "execute_result"
    }
   ],
   "source": [
    "# common activation function\n",
    "\n",
    "\"\"\"\n",
    "\n",
    "1. sigmoid activation function  :\n",
    "\n",
    "        - f(z) = 1 / 1 + e(-z)\n",
    "        \n",
    "        -  eg : binary classification --> 0 or 1\n",
    "\n",
    "\n",
    "2. Hyperbolic Tangent :\n",
    "        \n",
    "        -  tanh(z) \n",
    "        -  eg : output -1 and 1 instead of 0 to 1\n",
    "\n",
    "\n",
    "3. Rectified Linear Unit (ReLU) :\n",
    "\n",
    "        - max(x,0)\n",
    "        \n",
    "        - found to be very good performance especially dealing with  issue of vanishing gradient.\n",
    "\n",
    "\n",
    "\"\"\""
   ]
  },
  {
   "cell_type": "code",
   "execution_count": 3,
   "metadata": {},
   "outputs": [],
   "source": [
    "# basic model\n",
    "\n",
    "import numpy as np\n",
    "import pandas as pd\n",
    "import seaborn as sns\n",
    "import matplotlib.pyplot as plt"
   ]
  },
  {
   "cell_type": "code",
   "execution_count": 4,
   "metadata": {},
   "outputs": [],
   "source": [
    "import tensorflow as tf\n",
    "from tensorflow import keras"
   ]
  },
  {
   "cell_type": "code",
   "execution_count": 5,
   "metadata": {},
   "outputs": [],
   "source": [
    "from tensorflow.keras.datasets import boston_housing"
   ]
  },
  {
   "cell_type": "code",
   "execution_count": 6,
   "metadata": {},
   "outputs": [],
   "source": [
    "(X_train, y_train),(X_test, y_test) = boston_housing.load_data()"
   ]
  },
  {
   "cell_type": "code",
   "execution_count": 7,
   "metadata": {},
   "outputs": [],
   "source": [
    "# getting the data size"
   ]
  },
  {
   "cell_type": "code",
   "execution_count": 8,
   "metadata": {},
   "outputs": [
    {
     "data": {
      "text/plain": [
       "((404, 13), (102,))"
      ]
     },
     "execution_count": 8,
     "metadata": {},
     "output_type": "execute_result"
    }
   ],
   "source": [
    "X_train.shape, y_test.shape"
   ]
  },
  {
   "cell_type": "code",
   "execution_count": 9,
   "metadata": {},
   "outputs": [],
   "source": [
    "# normalisaton of the data"
   ]
  },
  {
   "cell_type": "code",
   "execution_count": 10,
   "metadata": {},
   "outputs": [],
   "source": [
    "# minmax scaler\n",
    "\n"
   ]
  },
  {
   "cell_type": "code",
   "execution_count": 11,
   "metadata": {},
   "outputs": [],
   "source": [
    "from sklearn.preprocessing import MinMaxScaler"
   ]
  },
  {
   "cell_type": "code",
   "execution_count": 12,
   "metadata": {},
   "outputs": [],
   "source": [
    "scaler = MinMaxScaler()"
   ]
  },
  {
   "cell_type": "code",
   "execution_count": 13,
   "metadata": {},
   "outputs": [],
   "source": [
    "X_train_scaled = scaler.fit_transform(X_train)\n",
    "X_test_scaled = scaler.transform(X_test)"
   ]
  },
  {
   "cell_type": "code",
   "execution_count": 14,
   "metadata": {},
   "outputs": [
    {
     "data": {
      "text/plain": [
       "(711.0, 1.0000000000000002, -0.0019120458891013214)"
      ]
     },
     "execution_count": 14,
     "metadata": {},
     "output_type": "execute_result"
    }
   ],
   "source": [
    "X_train.max(), X_train_scaled.max(), X_test_scaled.min()"
   ]
  },
  {
   "cell_type": "code",
   "execution_count": 15,
   "metadata": {},
   "outputs": [],
   "source": [
    "# create a neural network\n",
    "\n",
    "\n"
   ]
  },
  {
   "cell_type": "code",
   "execution_count": 16,
   "metadata": {},
   "outputs": [],
   "source": [
    "from tensorflow.keras import Sequential\n",
    "from tensorflow.keras.layers import Dense"
   ]
  },
  {
   "cell_type": "code",
   "execution_count": 17,
   "metadata": {},
   "outputs": [],
   "source": [
    "model = Sequential([\n",
    "    Dense(550,\"relu\"),\n",
    "    Dense(350,\"relu\"),\n",
    "    Dense(1)\n",
    "])"
   ]
  },
  {
   "cell_type": "code",
   "execution_count": 18,
   "metadata": {},
   "outputs": [],
   "source": [
    "model.compile(\n",
    "    optimizer = \"adam\",\n",
    "    loss = \"mse\",\n",
    "    \n",
    ")"
   ]
  },
  {
   "cell_type": "code",
   "execution_count": 19,
   "metadata": {},
   "outputs": [
    {
     "name": "stdout",
     "output_type": "stream",
     "text": [
      "Epoch 1/30\n",
      "13/13 [==============================] - 0s 3ms/step - loss: 497.9744\n",
      "Epoch 2/30\n",
      "13/13 [==============================] - 0s 3ms/step - loss: 228.3683\n",
      "Epoch 3/30\n",
      "13/13 [==============================] - 0s 3ms/step - loss: 125.0397\n",
      "Epoch 4/30\n",
      "13/13 [==============================] - 0s 4ms/step - loss: 80.4377\n",
      "Epoch 5/30\n",
      "13/13 [==============================] - 0s 4ms/step - loss: 59.8565\n",
      "Epoch 6/30\n",
      "13/13 [==============================] - 0s 4ms/step - loss: 50.7010\n",
      "Epoch 7/30\n",
      "13/13 [==============================] - 0s 4ms/step - loss: 45.3944\n",
      "Epoch 8/30\n",
      "13/13 [==============================] - 0s 3ms/step - loss: 41.4350\n",
      "Epoch 9/30\n",
      "13/13 [==============================] - 0s 4ms/step - loss: 36.8103\n",
      "Epoch 10/30\n",
      "13/13 [==============================] - 0s 4ms/step - loss: 33.4560\n",
      "Epoch 11/30\n",
      "13/13 [==============================] - 0s 3ms/step - loss: 31.2210\n",
      "Epoch 12/30\n",
      "13/13 [==============================] - 0s 3ms/step - loss: 27.3962\n",
      "Epoch 13/30\n",
      "13/13 [==============================] - 0s 4ms/step - loss: 25.2172\n",
      "Epoch 14/30\n",
      "13/13 [==============================] - 0s 4ms/step - loss: 22.8195\n",
      "Epoch 15/30\n",
      "13/13 [==============================] - 0s 3ms/step - loss: 22.7852\n",
      "Epoch 16/30\n",
      "13/13 [==============================] - 0s 3ms/step - loss: 20.8079\n",
      "Epoch 17/30\n",
      "13/13 [==============================] - 0s 4ms/step - loss: 19.3589\n",
      "Epoch 18/30\n",
      "13/13 [==============================] - 0s 4ms/step - loss: 18.5853\n",
      "Epoch 19/30\n",
      "13/13 [==============================] - 0s 4ms/step - loss: 18.5370\n",
      "Epoch 20/30\n",
      "13/13 [==============================] - 0s 3ms/step - loss: 17.8968\n",
      "Epoch 21/30\n",
      "13/13 [==============================] - 0s 4ms/step - loss: 19.8900\n",
      "Epoch 22/30\n",
      "13/13 [==============================] - 0s 4ms/step - loss: 17.1718\n",
      "Epoch 23/30\n",
      "13/13 [==============================] - 0s 3ms/step - loss: 17.9187\n",
      "Epoch 24/30\n",
      "13/13 [==============================] - 0s 3ms/step - loss: 16.1578\n",
      "Epoch 25/30\n",
      "13/13 [==============================] - 0s 3ms/step - loss: 15.0190\n",
      "Epoch 26/30\n",
      "13/13 [==============================] - 0s 4ms/step - loss: 15.2635\n",
      "Epoch 27/30\n",
      "13/13 [==============================] - 0s 4ms/step - loss: 15.2755\n",
      "Epoch 28/30\n",
      "13/13 [==============================] - 0s 4ms/step - loss: 13.9080\n",
      "Epoch 29/30\n",
      "13/13 [==============================] - 0s 4ms/step - loss: 13.5300\n",
      "Epoch 30/30\n",
      "13/13 [==============================] - 0s 4ms/step - loss: 13.7670\n"
     ]
    },
    {
     "data": {
      "text/plain": [
       "<tensorflow.python.keras.callbacks.History at 0x266a6bc2e88>"
      ]
     },
     "execution_count": 19,
     "metadata": {},
     "output_type": "execute_result"
    }
   ],
   "source": [
    "model.fit(X_train_scaled, y_train, epochs = 30 )"
   ]
  },
  {
   "cell_type": "code",
   "execution_count": 20,
   "metadata": {},
   "outputs": [],
   "source": [
    "loss_df = pd.DataFrame(data = model.history.history)"
   ]
  },
  {
   "cell_type": "code",
   "execution_count": 21,
   "metadata": {},
   "outputs": [
    {
     "data": {
      "text/plain": [
       "<AxesSubplot:>"
      ]
     },
     "execution_count": 21,
     "metadata": {},
     "output_type": "execute_result"
    },
    {
     "data": {
      "image/png": "[encoded data removed]",
      "text/plain": [
       "<Figure size 432x288 with 1 Axes>"
      ]
     },
     "metadata": {
      "needs_background": "light"
     },
     "output_type": "display_data"
    }
   ],
   "source": [
    "loss_df.plot()"
   ]
  },
  {
   "cell_type": "code",
   "execution_count": 22,
   "metadata": {},
   "outputs": [
    {
     "data": {
      "text/plain": [
       "23.687681198120117"
      ]
     },
     "execution_count": 22,
     "metadata": {},
     "output_type": "execute_result"
    }
   ],
   "source": [
    "model.evaluate(X_test_scaled, y_test, verbose = 0)"
   ]
  },
  {
   "cell_type": "code",
   "execution_count": 23,
   "metadata": {
    "scrolled": true
   },
   "outputs": [],
   "source": [
    "test_pred = model.predict(X_test_scaled)"
   ]
  },
  {
   "cell_type": "code",
   "execution_count": 24,
   "metadata": {},
   "outputs": [],
   "source": [
    "test_series = pd.Series(test_pred.reshape(102,))"
   ]
  },
  {
   "cell_type": "code",
   "execution_count": null,
   "metadata": {},
   "outputs": [],
   "source": []
  },
  {
   "cell_type": "code",
   "execution_count": 25,
   "metadata": {},
   "outputs": [],
   "source": [
    "pred_data = pd.DataFrame(data = y_test,columns=[\"original\"])"
   ]
  },
  {
   "cell_type": "code",
   "execution_count": 26,
   "metadata": {},
   "outputs": [],
   "source": [
    "pred_data = pd.concat([pred_data, test_series], axis= 1 )"
   ]
  },
  {
   "cell_type": "code",
   "execution_count": 27,
   "metadata": {},
   "outputs": [],
   "source": [
    "pred_data.columns = [\"original\", \"prediction\"]"
   ]
  },
  {
   "cell_type": "code",
   "execution_count": 28,
   "metadata": {},
   "outputs": [
    {
     "data": {
      "text/html": [
       "<div>\n",
       "<style scoped>\n",
       "    .dataframe tbody tr th:only-of-type {\n",
       "        vertical-align: middle;\n",
       "    }\n",
       "\n",
       "    .dataframe tbody tr th {\n",
       "        vertical-align: top;\n",
       "    }\n",
       "\n",
       "    .dataframe thead th {\n",
       "        text-align: right;\n",
       "    }\n",
       "</style>\n",
       "<table border=\"1\" class=\"dataframe\">\n",
       "  <thead>\n",
       "    <tr style=\"text-align: right;\">\n",
       "      <th></th>\n",
       "      <th>original</th>\n",
       "      <th>prediction</th>\n",
       "    </tr>\n",
       "  </thead>\n",
       "  <tbody>\n",
       "    <tr>\n",
       "      <th>0</th>\n",
       "      <td>7.2</td>\n",
       "      <td>9.790006</td>\n",
       "    </tr>\n",
       "    <tr>\n",
       "      <th>1</th>\n",
       "      <td>18.8</td>\n",
       "      <td>17.077143</td>\n",
       "    </tr>\n",
       "    <tr>\n",
       "      <th>2</th>\n",
       "      <td>19.0</td>\n",
       "      <td>20.117990</td>\n",
       "    </tr>\n",
       "    <tr>\n",
       "      <th>3</th>\n",
       "      <td>27.0</td>\n",
       "      <td>33.017353</td>\n",
       "    </tr>\n",
       "    <tr>\n",
       "      <th>4</th>\n",
       "      <td>22.2</td>\n",
       "      <td>22.786642</td>\n",
       "    </tr>\n",
       "    <tr>\n",
       "      <th>...</th>\n",
       "      <td>...</td>\n",
       "      <td>...</td>\n",
       "    </tr>\n",
       "    <tr>\n",
       "      <th>97</th>\n",
       "      <td>21.9</td>\n",
       "      <td>48.204399</td>\n",
       "    </tr>\n",
       "    <tr>\n",
       "      <th>98</th>\n",
       "      <td>24.1</td>\n",
       "      <td>24.540525</td>\n",
       "    </tr>\n",
       "    <tr>\n",
       "      <th>99</th>\n",
       "      <td>50.0</td>\n",
       "      <td>46.669014</td>\n",
       "    </tr>\n",
       "    <tr>\n",
       "      <th>100</th>\n",
       "      <td>26.7</td>\n",
       "      <td>32.155693</td>\n",
       "    </tr>\n",
       "    <tr>\n",
       "      <th>101</th>\n",
       "      <td>25.0</td>\n",
       "      <td>19.727781</td>\n",
       "    </tr>\n",
       "  </tbody>\n",
       "</table>\n",
       "<p>102 rows × 2 columns</p>\n",
       "</div>"
      ],
      "text/plain": [
       "     original  prediction\n",
       "0         7.2    9.790006\n",
       "1        18.8   17.077143\n",
       "2        19.0   20.117990\n",
       "3        27.0   33.017353\n",
       "4        22.2   22.786642\n",
       "..        ...         ...\n",
       "97       21.9   48.204399\n",
       "98       24.1   24.540525\n",
       "99       50.0   46.669014\n",
       "100      26.7   32.155693\n",
       "101      25.0   19.727781\n",
       "\n",
       "[102 rows x 2 columns]"
      ]
     },
     "execution_count": 28,
     "metadata": {},
     "output_type": "execute_result"
    }
   ],
   "source": [
    "pred_data"
   ]
  },
  {
   "cell_type": "code",
   "execution_count": 29,
   "metadata": {},
   "outputs": [
    {
     "data": {
      "text/plain": [
       "<matplotlib.collections.PathCollection at 0x266a84bf188>"
      ]
     },
     "execution_count": 29,
     "metadata": {},
     "output_type": "execute_result"
    },
    {
     "data": {
      "image/png": "[encoded data removed]",
      "text/plain": [
       "<Figure size 432x288 with 1 Axes>"
      ]
     },
     "metadata": {
      "needs_background": "light"
     },
     "output_type": "display_data"
    }
   ],
   "source": [
    "plt.scatter(x = pred_data[\"original\"], y = pred_data[\"prediction\"] )"
   ]
  },
  {
   "cell_type": "code",
   "execution_count": 30,
   "metadata": {},
   "outputs": [],
   "source": [
    "# using mean absolute error, mean squared error"
   ]
  },
  {
   "cell_type": "code",
   "execution_count": 31,
   "metadata": {},
   "outputs": [],
   "source": [
    "from sklearn.metrics import mean_absolute_error, mean_squared_error"
   ]
  },
  {
   "cell_type": "code",
   "execution_count": 32,
   "metadata": {},
   "outputs": [
    {
     "data": {
      "text/plain": [
       "3.283345534754735"
      ]
     },
     "execution_count": 32,
     "metadata": {},
     "output_type": "execute_result"
    }
   ],
   "source": [
    "mean_absolute_error(y_test, test_pred)"
   ]
  },
  {
   "cell_type": "code",
   "execution_count": 33,
   "metadata": {},
   "outputs": [
    {
     "data": {
      "text/plain": [
       "23.687680779648712"
      ]
     },
     "execution_count": 33,
     "metadata": {},
     "output_type": "execute_result"
    }
   ],
   "source": [
    "mean_squared_error(y_test, test_pred)"
   ]
  },
  {
   "cell_type": "code",
   "execution_count": null,
   "metadata": {},
   "outputs": [],
   "source": []
  },
  {
   "cell_type": "code",
   "execution_count": null,
   "metadata": {},
   "outputs": [],
   "source": []
  },
  {
   "cell_type": "code",
   "execution_count": null,
   "metadata": {},
   "outputs": [],
   "source": []
  },
  {
   "cell_type": "code",
   "execution_count": 34,
   "metadata": {},
   "outputs": [],
   "source": [
    "# pratices"
   ]
  },
  {
   "cell_type": "code",
   "execution_count": 35,
   "metadata": {},
   "outputs": [],
   "source": [
    "import numpy as np\n",
    "import pandas as pd\n",
    "import matplotlib.pyplot as plt\n",
    "import seaborn as sns\n",
    "import tensorflow as tf\n",
    "from tensorflow import keras"
   ]
  },
  {
   "cell_type": "code",
   "execution_count": 36,
   "metadata": {},
   "outputs": [
    {
     "data": {
      "text/plain": [
       "((404, 13), (102, 13), (404,), (102,))"
      ]
     },
     "execution_count": 36,
     "metadata": {},
     "output_type": "execute_result"
    }
   ],
   "source": [
    "X_train.shape, X_test.shape, y_train.shape, y_test.shape"
   ]
  },
  {
   "cell_type": "code",
   "execution_count": 37,
   "metadata": {},
   "outputs": [
    {
     "data": {
      "text/plain": [
       "<AxesSubplot:>"
      ]
     },
     "execution_count": 37,
     "metadata": {},
     "output_type": "execute_result"
    },
    {
     "data": {
      "image/png": "[encoded data removed]",
      "text/plain": [
       "<Figure size 432x288 with 2 Axes>"
      ]
     },
     "metadata": {
      "needs_background": "light"
     },
     "output_type": "display_data"
    }
   ],
   "source": [
    "sns.heatmap(pd.DataFrame(X_train).corr())"
   ]
  },
  {
   "cell_type": "code",
   "execution_count": 38,
   "metadata": {},
   "outputs": [],
   "source": [
    "# scaling the values"
   ]
  },
  {
   "cell_type": "code",
   "execution_count": 39,
   "metadata": {},
   "outputs": [],
   "source": [
    "from sklearn.preprocessing import MinMaxScaler"
   ]
  },
  {
   "cell_type": "code",
   "execution_count": 40,
   "metadata": {},
   "outputs": [],
   "source": [
    "scaler = MinMaxScaler()"
   ]
  },
  {
   "cell_type": "code",
   "execution_count": 41,
   "metadata": {},
   "outputs": [],
   "source": [
    "X_train_scaled = scaler.fit_transform(X_train)"
   ]
  },
  {
   "cell_type": "code",
   "execution_count": 42,
   "metadata": {},
   "outputs": [
    {
     "data": {
      "text/plain": [
       "0.0"
      ]
     },
     "execution_count": 42,
     "metadata": {},
     "output_type": "execute_result"
    }
   ],
   "source": [
    "X_train_scaled.min()"
   ]
  },
  {
   "cell_type": "code",
   "execution_count": 43,
   "metadata": {},
   "outputs": [],
   "source": [
    "X_test_scaled = scaler.transform(X_test)"
   ]
  },
  {
   "cell_type": "code",
   "execution_count": 44,
   "metadata": {},
   "outputs": [
    {
     "data": {
      "text/plain": [
       "1.1478180091225068"
      ]
     },
     "execution_count": 44,
     "metadata": {},
     "output_type": "execute_result"
    }
   ],
   "source": [
    "X_test_scaled.max()"
   ]
  },
  {
   "cell_type": "code",
   "execution_count": 45,
   "metadata": {},
   "outputs": [],
   "source": [
    "# create a model"
   ]
  },
  {
   "cell_type": "code",
   "execution_count": 46,
   "metadata": {},
   "outputs": [],
   "source": [
    "from tensorflow.keras.layers import Dense\n",
    "from tensorflow.keras import Sequential"
   ]
  },
  {
   "cell_type": "code",
   "execution_count": 47,
   "metadata": {},
   "outputs": [],
   "source": [
    "model = Sequential([\n",
    "    Dense(500,\"relu\"),\n",
    "    Dense(250,\"relu\"),\n",
    "    Dense(1)\n",
    "])"
   ]
  },
  {
   "cell_type": "code",
   "execution_count": 48,
   "metadata": {},
   "outputs": [],
   "source": [
    "model.compile(\n",
    "    optimizer=\"adam\",\n",
    "    loss = \"mse\"\n",
    ")"
   ]
  },
  {
   "cell_type": "code",
   "execution_count": 49,
   "metadata": {},
   "outputs": [
    {
     "name": "stdout",
     "output_type": "stream",
     "text": [
      "Epoch 1/50\n",
      "13/13 [==============================] - 0s 3ms/step - loss: 484.8480\n",
      "Epoch 2/50\n",
      "13/13 [==============================] - 0s 3ms/step - loss: 232.2267\n",
      "Epoch 3/50\n",
      "13/13 [==============================] - 0s 2ms/step - loss: 123.7763\n",
      "Epoch 4/50\n",
      "13/13 [==============================] - 0s 2ms/step - loss: 84.7229\n",
      "Epoch 5/50\n",
      "13/13 [==============================] - 0s 2ms/step - loss: 63.7695\n",
      "Epoch 6/50\n",
      "13/13 [==============================] - 0s 3ms/step - loss: 54.2672\n",
      "Epoch 7/50\n",
      "13/13 [==============================] - 0s 3ms/step - loss: 48.7772\n",
      "Epoch 8/50\n",
      "13/13 [==============================] - 0s 3ms/step - loss: 44.3476\n",
      "Epoch 9/50\n",
      "13/13 [==============================] - 0s 3ms/step - loss: 40.4130\n",
      "Epoch 10/50\n",
      "13/13 [==============================] - 0s 4ms/step - loss: 37.2635\n",
      "Epoch 11/50\n",
      "13/13 [==============================] - 0s 4ms/step - loss: 32.7576\n",
      "Epoch 12/50\n",
      "13/13 [==============================] - 0s 3ms/step - loss: 30.3942\n",
      "Epoch 13/50\n",
      "13/13 [==============================] - 0s 3ms/step - loss: 27.1178\n",
      "Epoch 14/50\n",
      "13/13 [==============================] - 0s 3ms/step - loss: 24.7999\n",
      "Epoch 15/50\n",
      "13/13 [==============================] - 0s 3ms/step - loss: 23.2502\n",
      "Epoch 16/50\n",
      "13/13 [==============================] - 0s 3ms/step - loss: 21.3809\n",
      "Epoch 17/50\n",
      "13/13 [==============================] - 0s 3ms/step - loss: 19.9604\n",
      "Epoch 18/50\n",
      "13/13 [==============================] - 0s 4ms/step - loss: 19.1119\n",
      "Epoch 19/50\n",
      "13/13 [==============================] - 0s 3ms/step - loss: 18.5655\n",
      "Epoch 20/50\n",
      "13/13 [==============================] - 0s 3ms/step - loss: 18.0755\n",
      "Epoch 21/50\n",
      "13/13 [==============================] - 0s 3ms/step - loss: 18.4639\n",
      "Epoch 22/50\n",
      "13/13 [==============================] - 0s 2ms/step - loss: 17.0890\n",
      "Epoch 23/50\n",
      "13/13 [==============================] - 0s 3ms/step - loss: 16.0371\n",
      "Epoch 24/50\n",
      "13/13 [==============================] - 0s 3ms/step - loss: 16.2844\n",
      "Epoch 25/50\n",
      "13/13 [==============================] - 0s 4ms/step - loss: 15.3755\n",
      "Epoch 26/50\n",
      "13/13 [==============================] - 0s 4ms/step - loss: 15.0311\n",
      "Epoch 27/50\n",
      "13/13 [==============================] - 0s 4ms/step - loss: 14.9074\n",
      "Epoch 28/50\n",
      "13/13 [==============================] - 0s 3ms/step - loss: 14.1742\n",
      "Epoch 29/50\n",
      "13/13 [==============================] - 0s 3ms/step - loss: 14.0676\n",
      "Epoch 30/50\n",
      "13/13 [==============================] - 0s 3ms/step - loss: 13.6742\n",
      "Epoch 31/50\n",
      "13/13 [==============================] - 0s 3ms/step - loss: 13.3259\n",
      "Epoch 32/50\n",
      "13/13 [==============================] - 0s 3ms/step - loss: 13.2085\n",
      "Epoch 33/50\n",
      "13/13 [==============================] - 0s 3ms/step - loss: 12.6167\n",
      "Epoch 34/50\n",
      "13/13 [==============================] - 0s 3ms/step - loss: 12.5317\n",
      "Epoch 35/50\n",
      "13/13 [==============================] - 0s 4ms/step - loss: 12.5995\n",
      "Epoch 36/50\n",
      "13/13 [==============================] - 0s 3ms/step - loss: 11.9680\n",
      "Epoch 37/50\n",
      "13/13 [==============================] - 0s 4ms/step - loss: 11.7183\n",
      "Epoch 38/50\n",
      "13/13 [==============================] - 0s 3ms/step - loss: 11.6953\n",
      "Epoch 39/50\n",
      "13/13 [==============================] - 0s 3ms/step - loss: 11.3657\n",
      "Epoch 40/50\n",
      "13/13 [==============================] - 0s 3ms/step - loss: 11.8366\n",
      "Epoch 41/50\n",
      "13/13 [==============================] - 0s 3ms/step - loss: 11.4260\n",
      "Epoch 42/50\n",
      "13/13 [==============================] - 0s 3ms/step - loss: 10.8185\n",
      "Epoch 43/50\n",
      "13/13 [==============================] - 0s 4ms/step - loss: 10.3093\n",
      "Epoch 44/50\n",
      "13/13 [==============================] - 0s 3ms/step - loss: 10.6674\n",
      "Epoch 45/50\n",
      "13/13 [==============================] - 0s 3ms/step - loss: 10.3088\n",
      "Epoch 46/50\n",
      "13/13 [==============================] - 0s 3ms/step - loss: 10.0400\n",
      "Epoch 47/50\n",
      "13/13 [==============================] - 0s 4ms/step - loss: 9.8270\n",
      "Epoch 48/50\n",
      "13/13 [==============================] - 0s 3ms/step - loss: 9.8721\n",
      "Epoch 49/50\n",
      "13/13 [==============================] - 0s 3ms/step - loss: 9.5667\n",
      "Epoch 50/50\n",
      "13/13 [==============================] - 0s 3ms/step - loss: 9.9220\n"
     ]
    },
    {
     "data": {
      "text/plain": [
       "<tensorflow.python.keras.callbacks.History at 0x266a873f108>"
      ]
     },
     "execution_count": 49,
     "metadata": {},
     "output_type": "execute_result"
    }
   ],
   "source": [
    "model.fit(X_train_scaled, y_train, epochs = 50)"
   ]
  },
  {
   "cell_type": "code",
   "execution_count": 50,
   "metadata": {},
   "outputs": [],
   "source": [
    "loss = model.history.history"
   ]
  },
  {
   "cell_type": "code",
   "execution_count": 51,
   "metadata": {},
   "outputs": [
    {
     "data": {
      "text/plain": [
       "<AxesSubplot:>"
      ]
     },
     "execution_count": 51,
     "metadata": {},
     "output_type": "execute_result"
    },
    {
     "data": {
      "image/png": "[encoded data removed]",
      "text/plain": [
       "<Figure size 432x288 with 1 Axes>"
      ]
     },
     "metadata": {
      "needs_background": "light"
     },
     "output_type": "display_data"
    }
   ],
   "source": [
    "pd.DataFrame(data = loss).plot()"
   ]
  },
  {
   "cell_type": "code",
   "execution_count": 52,
   "metadata": {},
   "outputs": [
    {
     "name": "stdout",
     "output_type": "stream",
     "text": [
      "4/4 [==============================] - 0s 2ms/step - loss: 25.2873\n"
     ]
    },
    {
     "data": {
      "text/plain": [
       "25.287336349487305"
      ]
     },
     "execution_count": 52,
     "metadata": {},
     "output_type": "execute_result"
    }
   ],
   "source": [
    "model.evaluate(X_test_scaled, y_test)"
   ]
  },
  {
   "cell_type": "code",
   "execution_count": 55,
   "metadata": {},
   "outputs": [],
   "source": [
    "test_pred = pd.Series(model.predict(X_test_scaled).reshape(102,))"
   ]
  },
  {
   "cell_type": "code",
   "execution_count": 56,
   "metadata": {},
   "outputs": [
    {
     "data": {
      "text/plain": [
       "0       9.748657\n",
       "1      17.434732\n",
       "2      21.245710\n",
       "3      33.139435\n",
       "4      23.269434\n",
       "         ...    \n",
       "97     53.382854\n",
       "98     25.874777\n",
       "99     48.905815\n",
       "100    30.635363\n",
       "101    19.494753\n",
       "Length: 102, dtype: float32"
      ]
     },
     "execution_count": 56,
     "metadata": {},
     "output_type": "execute_result"
    }
   ],
   "source": [
    "test_pred"
   ]
  },
  {
   "cell_type": "code",
   "execution_count": 61,
   "metadata": {},
   "outputs": [],
   "source": [
    "test_df = pd.DataFrame(data=y_test)"
   ]
  },
  {
   "cell_type": "code",
   "execution_count": 63,
   "metadata": {},
   "outputs": [],
   "source": [
    "test_df = pd.concat([test_pred, test_df], axis= 1)"
   ]
  },
  {
   "cell_type": "code",
   "execution_count": 67,
   "metadata": {},
   "outputs": [],
   "source": [
    "test_df.columns = [\"prediciton\",\"original\"]"
   ]
  },
  {
   "cell_type": "code",
   "execution_count": 69,
   "metadata": {},
   "outputs": [
    {
     "data": {
      "text/plain": [
       "<AxesSubplot:>"
      ]
     },
     "execution_count": 69,
     "metadata": {},
     "output_type": "execute_result"
    },
    {
     "data": {
      "image/png": "[encoded data removed]",
      "text/plain": [
       "<Figure size 432x288 with 1 Axes>"
      ]
     },
     "metadata": {
      "needs_background": "light"
     },
     "output_type": "display_data"
    }
   ],
   "source": [
    "test_df.plot()"
   ]
  },
  {
   "cell_type": "code",
   "execution_count": 76,
   "metadata": {},
   "outputs": [
    {
     "data": {
      "text/plain": [
       "<matplotlib.collections.PathCollection at 0x266a8754948>"
      ]
     },
     "execution_count": 76,
     "metadata": {},
     "output_type": "execute_result"
    },
    {
     "data": {
      "image/png": "[encoded data removed]",
      "text/plain": [
       "<Figure size 432x288 with 1 Axes>"
      ]
     },
     "metadata": {
      "needs_background": "light"
     },
     "output_type": "display_data"
    }
   ],
   "source": [
    "plt.scatter(x = test_df[\"prediciton\"], y= test_df[\"original\"] )"
   ]
  },
  {
   "cell_type": "code",
   "execution_count": 74,
   "metadata": {},
   "outputs": [
    {
     "data": {
      "text/html": [
       "<div>\n",
       "<style scoped>\n",
       "    .dataframe tbody tr th:only-of-type {\n",
       "        vertical-align: middle;\n",
       "    }\n",
       "\n",
       "    .dataframe tbody tr th {\n",
       "        vertical-align: top;\n",
       "    }\n",
       "\n",
       "    .dataframe thead th {\n",
       "        text-align: right;\n",
       "    }\n",
       "</style>\n",
       "<table border=\"1\" class=\"dataframe\">\n",
       "  <thead>\n",
       "    <tr style=\"text-align: right;\">\n",
       "      <th></th>\n",
       "      <th>prediciton</th>\n",
       "      <th>original</th>\n",
       "    </tr>\n",
       "  </thead>\n",
       "  <tbody>\n",
       "    <tr>\n",
       "      <th>0</th>\n",
       "      <td>9.748657</td>\n",
       "      <td>7.2</td>\n",
       "    </tr>\n",
       "    <tr>\n",
       "      <th>1</th>\n",
       "      <td>17.434732</td>\n",
       "      <td>18.8</td>\n",
       "    </tr>\n",
       "    <tr>\n",
       "      <th>2</th>\n",
       "      <td>21.245710</td>\n",
       "      <td>19.0</td>\n",
       "    </tr>\n",
       "    <tr>\n",
       "      <th>3</th>\n",
       "      <td>33.139435</td>\n",
       "      <td>27.0</td>\n",
       "    </tr>\n",
       "    <tr>\n",
       "      <th>4</th>\n",
       "      <td>23.269434</td>\n",
       "      <td>22.2</td>\n",
       "    </tr>\n",
       "    <tr>\n",
       "      <th>...</th>\n",
       "      <td>...</td>\n",
       "      <td>...</td>\n",
       "    </tr>\n",
       "    <tr>\n",
       "      <th>97</th>\n",
       "      <td>53.382854</td>\n",
       "      <td>21.9</td>\n",
       "    </tr>\n",
       "    <tr>\n",
       "      <th>98</th>\n",
       "      <td>25.874777</td>\n",
       "      <td>24.1</td>\n",
       "    </tr>\n",
       "    <tr>\n",
       "      <th>99</th>\n",
       "      <td>48.905815</td>\n",
       "      <td>50.0</td>\n",
       "    </tr>\n",
       "    <tr>\n",
       "      <th>100</th>\n",
       "      <td>30.635363</td>\n",
       "      <td>26.7</td>\n",
       "    </tr>\n",
       "    <tr>\n",
       "      <th>101</th>\n",
       "      <td>19.494753</td>\n",
       "      <td>25.0</td>\n",
       "    </tr>\n",
       "  </tbody>\n",
       "</table>\n",
       "<p>102 rows × 2 columns</p>\n",
       "</div>"
      ],
      "text/plain": [
       "     prediciton  original\n",
       "0      9.748657       7.2\n",
       "1     17.434732      18.8\n",
       "2     21.245710      19.0\n",
       "3     33.139435      27.0\n",
       "4     23.269434      22.2\n",
       "..          ...       ...\n",
       "97    53.382854      21.9\n",
       "98    25.874777      24.1\n",
       "99    48.905815      50.0\n",
       "100   30.635363      26.7\n",
       "101   19.494753      25.0\n",
       "\n",
       "[102 rows x 2 columns]"
      ]
     },
     "execution_count": 74,
     "metadata": {},
     "output_type": "execute_result"
    }
   ],
   "source": [
    "test_df"
   ]
  },
  {
   "cell_type": "code",
   "execution_count": 89,
   "metadata": {},
   "outputs": [
    {
     "data": {
      "text/plain": [
       "(array([[17.437794]], dtype=float32), 15.2)"
      ]
     },
     "execution_count": 89,
     "metadata": {},
     "output_type": "execute_result"
    }
   ],
   "source": [
    "model.predict(scaler.transform([X_train[0]])), y_train[0]"
   ]
  },
  {
   "cell_type": "code",
   "execution_count": 88,
   "metadata": {},
   "outputs": [],
   "source": [
    "# saving the model"
   ]
  },
  {
   "cell_type": "code",
   "execution_count": 90,
   "metadata": {},
   "outputs": [],
   "source": [
    "from tensorflow.keras.models import load_model"
   ]
  },
  {
   "cell_type": "code",
   "execution_count": 91,
   "metadata": {},
   "outputs": [],
   "source": [
    "model.save(\"first_model.h5\")"
   ]
  },
  {
   "cell_type": "code",
   "execution_count": 94,
   "metadata": {},
   "outputs": [],
   "source": [
    "# loading the model"
   ]
  },
  {
   "cell_type": "code",
   "execution_count": 92,
   "metadata": {},
   "outputs": [],
   "source": [
    "prev_model = load_model(\"first_model.h5\")"
   ]
  },
  {
   "cell_type": "code",
   "execution_count": 93,
   "metadata": {},
   "outputs": [
    {
     "data": {
      "text/plain": [
       "(array([[17.437794]], dtype=float32), 15.2)"
      ]
     },
     "execution_count": 93,
     "metadata": {},
     "output_type": "execute_result"
    }
   ],
   "source": [
    "prev_model.predict(scaler.transform([X_train[0]])), y_train[0]"
   ]
  },
  {
   "cell_type": "code",
   "execution_count": null,
   "metadata": {},
   "outputs": [],
   "source": []
  }
 ],
 "metadata": {
  "kernelspec": {
   "display_name": "Python 3",
   "language": "python",
   "name": "python3"
  },
  "language_info": {
   "codemirror_mode": {
    "name": "ipython",
    "version": 3
   },
   "file_extension": ".py",
   "mimetype": "text/x-python",
   "name": "python",
   "nbconvert_exporter": "python",
   "pygments_lexer": "ipython3",
   "version": "3.7.9"
  }
 },
 "nbformat": 4,
 "nbformat_minor": 4
}
